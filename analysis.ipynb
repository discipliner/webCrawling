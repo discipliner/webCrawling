{
 "cells": [
  {
   "cell_type": "code",
   "execution_count": 104,
   "metadata": {
    "collapsed": true
   },
   "outputs": [],
   "source": [
    "import warnings\n",
    "import json\n",
    "from pandas.io.json import json_normalize\n",
    "\n",
    "warnings.filterwarnings(action='ignore')\n",
    "import numpy as np  # 수치계산, 배열 처리를 위해 import 한다.\n",
    "import pandas as pd  # 데이터 분석을 위한 전처리를 위해 import 한다.\n",
    "import matplotlib as mpl  # matplolib에서 음수 데이터의 '-'부호가 깨지는 것을 방지하기위해 import 한다.\n",
    "\n",
    "mpl.rcParams['axes.unicode_minus'] = False  # matplolib에서 음수 데이터의 '-'부호가 깨지는 것을 방지한다.\n",
    "import matplotlib.pyplot as plt  # 시각화를 하기 위해 import 한다.\n",
    "\n",
    "plt.rcParams[\"font.size\"] = 10  # matplolib에서 사용할 글꼴 크기 설정\n",
    "plt.rcParams[\"font.family\"] = \"NanumGothicCoding\"  # matplolib에서 사용할 글꼴 설정\n",
    "import seaborn as sns  # 시각화를 하기 위해 import 한다. matplolib 기반으로 만든 시각화 도구\n",
    "\n",
    "pd.options.display.float_format = '{:,.5f}'.format\n",
    "from plotnine import *  # R의 ggplot2 패키지를 사용하는 것 처럼 사용하는 시각화 도구를 import 한다.\n",
    "import missingno as msno  # 누락값의 분포를 그래프 형태로 보기위해 import 한다.\n",
    "import folium  # 지도 시각화를 하기 위해 import 한다.\n",
    "from wordcloud import WordCloud"
   ]
  },
  {
   "cell_type": "code",
   "execution_count": 105,
   "outputs": [
    {
     "data": {
      "text/plain": "       userNum nickname    gameId  seasonId  matchingMode  matchingTeamMode  \\\n0       725291   셀쓰녀가취향  22615555        15             3                 3   \n1       725291   셀쓰녀가취향  22614952        15             3                 3   \n2       725291   셀쓰녀가취향  22614596        15             3                 3   \n3       725291   셀쓰녀가취향  22613843        15             3                 3   \n4      1199780       탐피  22618328        15             3                 3   \n...        ...      ...       ...       ...           ...               ...   \n19243   376780  Senzawa  22624651        15             3                 3   \n19244   376780  Senzawa  22624511        15             3                 3   \n19245   376780  Senzawa  22624365        15             3                 3   \n19246   376780  Senzawa  22618067        15             3                 3   \n19247   376780  Senzawa  22617495        15             3                 3   \n\n       characterNum  skinCode  characterLevel  gameRank  ...  \\\n0                39   1039001              18         1  ...   \n1                39   1039001              16         2  ...   \n2                46   1046000              10         6  ...   \n3                46   1046000              16         1  ...   \n4                 2   1002002              15         2  ...   \n...             ...       ...             ...       ...  ...   \n19243            17   1017000              16         2  ...   \n19244            17   1017000              16         1  ...   \n19245            17   1017000              16         3  ...   \n19246            46   1046000              15         1  ...   \n19247            46   1046000              15         1  ...   \n\n       skillLevelInfo.1026310  skillLevelInfo.1006310  skillLevelInfo.1055430  \\\n0                         nan                     nan                     nan   \n1                         nan                     nan                     nan   \n2                         nan                     nan                     nan   \n3                         nan                     nan                     nan   \n4                         nan                     nan                     nan   \n...                       ...                     ...                     ...   \n19243                     nan                     nan                     nan   \n19244                     nan                     nan                     nan   \n19245                     nan                     nan                     nan   \n19246                     nan                     nan                     nan   \n19247                     nan                     nan                     nan   \n\n       skillLevelInfo.1012310  Unnamed: 0  skillLevelInfo.1026420  \\\n0                         nan         nan                     nan   \n1                         nan         nan                     nan   \n2                         nan         nan                     nan   \n3                         nan         nan                     nan   \n4                         nan         nan                     nan   \n...                       ...         ...                     ...   \n19243                     nan         nan                     nan   \n19244                     nan         nan                     nan   \n19245                     nan         nan                     nan   \n19246                     nan         nan                     nan   \n19247                     nan         nan                     nan   \n\n       skillLevelInfo.1036410 eventMissionResult.162 skillLevelInfo.1040310  \\\n0                         nan                    nan                    nan   \n1                         nan                    nan                    nan   \n2                         nan                    nan                    nan   \n3                         nan                    nan                    nan   \n4                         nan                    nan                    nan   \n...                       ...                    ...                    ...   \n19243                     nan                    nan                    nan   \n19244                     nan                    nan                    nan   \n19245                     nan                    nan                    nan   \n19246                     nan                    nan                    nan   \n19247                     nan                    nan                    nan   \n\n       skillLevelInfo.1041210  \n0                         nan  \n1                         nan  \n2                         nan  \n3                         nan  \n4                         nan  \n...                       ...  \n19243                     nan  \n19244                     nan  \n19245                     nan  \n19246                     nan  \n19247                     nan  \n\n[19248 rows x 713 columns]",
      "text/html": "<div>\n<style scoped>\n    .dataframe tbody tr th:only-of-type {\n        vertical-align: middle;\n    }\n\n    .dataframe tbody tr th {\n        vertical-align: top;\n    }\n\n    .dataframe thead th {\n        text-align: right;\n    }\n</style>\n<table border=\"1\" class=\"dataframe\">\n  <thead>\n    <tr style=\"text-align: right;\">\n      <th></th>\n      <th>userNum</th>\n      <th>nickname</th>\n      <th>gameId</th>\n      <th>seasonId</th>\n      <th>matchingMode</th>\n      <th>matchingTeamMode</th>\n      <th>characterNum</th>\n      <th>skinCode</th>\n      <th>characterLevel</th>\n      <th>gameRank</th>\n      <th>...</th>\n      <th>skillLevelInfo.1026310</th>\n      <th>skillLevelInfo.1006310</th>\n      <th>skillLevelInfo.1055430</th>\n      <th>skillLevelInfo.1012310</th>\n      <th>Unnamed: 0</th>\n      <th>skillLevelInfo.1026420</th>\n      <th>skillLevelInfo.1036410</th>\n      <th>eventMissionResult.162</th>\n      <th>skillLevelInfo.1040310</th>\n      <th>skillLevelInfo.1041210</th>\n    </tr>\n  </thead>\n  <tbody>\n    <tr>\n      <th>0</th>\n      <td>725291</td>\n      <td>셀쓰녀가취향</td>\n      <td>22615555</td>\n      <td>15</td>\n      <td>3</td>\n      <td>3</td>\n      <td>39</td>\n      <td>1039001</td>\n      <td>18</td>\n      <td>1</td>\n      <td>...</td>\n      <td>nan</td>\n      <td>nan</td>\n      <td>nan</td>\n      <td>nan</td>\n      <td>nan</td>\n      <td>nan</td>\n      <td>nan</td>\n      <td>nan</td>\n      <td>nan</td>\n      <td>nan</td>\n    </tr>\n    <tr>\n      <th>1</th>\n      <td>725291</td>\n      <td>셀쓰녀가취향</td>\n      <td>22614952</td>\n      <td>15</td>\n      <td>3</td>\n      <td>3</td>\n      <td>39</td>\n      <td>1039001</td>\n      <td>16</td>\n      <td>2</td>\n      <td>...</td>\n      <td>nan</td>\n      <td>nan</td>\n      <td>nan</td>\n      <td>nan</td>\n      <td>nan</td>\n      <td>nan</td>\n      <td>nan</td>\n      <td>nan</td>\n      <td>nan</td>\n      <td>nan</td>\n    </tr>\n    <tr>\n      <th>2</th>\n      <td>725291</td>\n      <td>셀쓰녀가취향</td>\n      <td>22614596</td>\n      <td>15</td>\n      <td>3</td>\n      <td>3</td>\n      <td>46</td>\n      <td>1046000</td>\n      <td>10</td>\n      <td>6</td>\n      <td>...</td>\n      <td>nan</td>\n      <td>nan</td>\n      <td>nan</td>\n      <td>nan</td>\n      <td>nan</td>\n      <td>nan</td>\n      <td>nan</td>\n      <td>nan</td>\n      <td>nan</td>\n      <td>nan</td>\n    </tr>\n    <tr>\n      <th>3</th>\n      <td>725291</td>\n      <td>셀쓰녀가취향</td>\n      <td>22613843</td>\n      <td>15</td>\n      <td>3</td>\n      <td>3</td>\n      <td>46</td>\n      <td>1046000</td>\n      <td>16</td>\n      <td>1</td>\n      <td>...</td>\n      <td>nan</td>\n      <td>nan</td>\n      <td>nan</td>\n      <td>nan</td>\n      <td>nan</td>\n      <td>nan</td>\n      <td>nan</td>\n      <td>nan</td>\n      <td>nan</td>\n      <td>nan</td>\n    </tr>\n    <tr>\n      <th>4</th>\n      <td>1199780</td>\n      <td>탐피</td>\n      <td>22618328</td>\n      <td>15</td>\n      <td>3</td>\n      <td>3</td>\n      <td>2</td>\n      <td>1002002</td>\n      <td>15</td>\n      <td>2</td>\n      <td>...</td>\n      <td>nan</td>\n      <td>nan</td>\n      <td>nan</td>\n      <td>nan</td>\n      <td>nan</td>\n      <td>nan</td>\n      <td>nan</td>\n      <td>nan</td>\n      <td>nan</td>\n      <td>nan</td>\n    </tr>\n    <tr>\n      <th>...</th>\n      <td>...</td>\n      <td>...</td>\n      <td>...</td>\n      <td>...</td>\n      <td>...</td>\n      <td>...</td>\n      <td>...</td>\n      <td>...</td>\n      <td>...</td>\n      <td>...</td>\n      <td>...</td>\n      <td>...</td>\n      <td>...</td>\n      <td>...</td>\n      <td>...</td>\n      <td>...</td>\n      <td>...</td>\n      <td>...</td>\n      <td>...</td>\n      <td>...</td>\n      <td>...</td>\n    </tr>\n    <tr>\n      <th>19243</th>\n      <td>376780</td>\n      <td>Senzawa</td>\n      <td>22624651</td>\n      <td>15</td>\n      <td>3</td>\n      <td>3</td>\n      <td>17</td>\n      <td>1017000</td>\n      <td>16</td>\n      <td>2</td>\n      <td>...</td>\n      <td>nan</td>\n      <td>nan</td>\n      <td>nan</td>\n      <td>nan</td>\n      <td>nan</td>\n      <td>nan</td>\n      <td>nan</td>\n      <td>nan</td>\n      <td>nan</td>\n      <td>nan</td>\n    </tr>\n    <tr>\n      <th>19244</th>\n      <td>376780</td>\n      <td>Senzawa</td>\n      <td>22624511</td>\n      <td>15</td>\n      <td>3</td>\n      <td>3</td>\n      <td>17</td>\n      <td>1017000</td>\n      <td>16</td>\n      <td>1</td>\n      <td>...</td>\n      <td>nan</td>\n      <td>nan</td>\n      <td>nan</td>\n      <td>nan</td>\n      <td>nan</td>\n      <td>nan</td>\n      <td>nan</td>\n      <td>nan</td>\n      <td>nan</td>\n      <td>nan</td>\n    </tr>\n    <tr>\n      <th>19245</th>\n      <td>376780</td>\n      <td>Senzawa</td>\n      <td>22624365</td>\n      <td>15</td>\n      <td>3</td>\n      <td>3</td>\n      <td>17</td>\n      <td>1017000</td>\n      <td>16</td>\n      <td>3</td>\n      <td>...</td>\n      <td>nan</td>\n      <td>nan</td>\n      <td>nan</td>\n      <td>nan</td>\n      <td>nan</td>\n      <td>nan</td>\n      <td>nan</td>\n      <td>nan</td>\n      <td>nan</td>\n      <td>nan</td>\n    </tr>\n    <tr>\n      <th>19246</th>\n      <td>376780</td>\n      <td>Senzawa</td>\n      <td>22618067</td>\n      <td>15</td>\n      <td>3</td>\n      <td>3</td>\n      <td>46</td>\n      <td>1046000</td>\n      <td>15</td>\n      <td>1</td>\n      <td>...</td>\n      <td>nan</td>\n      <td>nan</td>\n      <td>nan</td>\n      <td>nan</td>\n      <td>nan</td>\n      <td>nan</td>\n      <td>nan</td>\n      <td>nan</td>\n      <td>nan</td>\n      <td>nan</td>\n    </tr>\n    <tr>\n      <th>19247</th>\n      <td>376780</td>\n      <td>Senzawa</td>\n      <td>22617495</td>\n      <td>15</td>\n      <td>3</td>\n      <td>3</td>\n      <td>46</td>\n      <td>1046000</td>\n      <td>15</td>\n      <td>1</td>\n      <td>...</td>\n      <td>nan</td>\n      <td>nan</td>\n      <td>nan</td>\n      <td>nan</td>\n      <td>nan</td>\n      <td>nan</td>\n      <td>nan</td>\n      <td>nan</td>\n      <td>nan</td>\n      <td>nan</td>\n    </tr>\n  </tbody>\n</table>\n<p>19248 rows × 713 columns</p>\n</div>"
     },
     "execution_count": 105,
     "metadata": {},
     "output_type": "execute_result"
    }
   ],
   "source": [
    "rank = pd.read_csv('data/rank.csv')\n",
    "rank"
   ],
   "metadata": {
    "collapsed": false
   }
  },
  {
   "cell_type": "code",
   "execution_count": 106,
   "outputs": [],
   "source": [
    "characterNamesEn = pd.read_csv('data/characterList - origin.csv')  # 캐릭터 영문명\n",
    "characterNamesKr = pd.read_csv('data/characterList - changed.csv')  # 캐릭터 한글명\n",
    "skinNames = pd.read_csv('data/skin - changed.csv')  # 스킨\n",
    "weaponNames = pd.read_csv('data/weapon - changed.csv')  # 무기\n",
    "armorNames = pd.read_csv('data/armor - changed.csv')  # 방어구"
   ],
   "metadata": {
    "collapsed": false
   }
  },
  {
   "cell_type": "markdown",
   "source": [
    "characterNum: 캐릭터 코드\n",
    "\n",
    "skinCode: 스킨 코드\n",
    "\n",
    "mmrGain: 획득 MMR, escapeState: 탈출, gameRank: 등수,  playerKill: 킬수,  victory: 승리\n",
    "damageToPlayer: 플레이어에게 준 데미지, damageToMonster: 야동에게 가한 데미지 => 지표 분석용\n",
    "\n",
    "equipment.0 ~ equipment.5: 최종 착용 장비, equipFirstItemForLog.0 ~ equipFirstItemForLog.6: 최초 착용 장비 => 메타 분석용\n",
    "\n"
   ],
   "metadata": {
    "collapsed": false
   }
  },
  {
   "cell_type": "code",
   "execution_count": 107,
   "outputs": [
    {
     "name": "stdout",
     "output_type": "stream",
     "text": [
      "\"mostSkin\" : \"시스템쇼크 재키\", \"mostSkinCount\" :  195\n",
      "\"averageKillPlayer\" : 2.96\n",
      "\"averageDamegeToPlayer\" : 8293.12\n",
      "\"averageKillMonster\" : 29.51\n",
      "\"averageDamegeToMonster\" : 38051.72\n",
      "\"totalGames\" : 661\n",
      "\"winRate\" : 3.84\n",
      "\"averageRank\" : 2.96\n",
      "\"escapeCount\" : 49\n",
      "\"averageMMR\" : 10.142\n",
      "\"winWeapon\" : \"프라가라흐\", \"winWeaponCount\" : 54\n",
      "\"winBody\" : \"버건디47\", \"winBodyCount\" : 54\n",
      "\"winHead\" : \"빛의증표\", \"winHeadCount\" : 82\n",
      "\"winArm\" : \"레이더\", \"winArmCount\" : 45\n",
      "\"winFoot\" : \"알렉산드로스\", \"winFootCount\" : 59\n",
      "\"winTinkled\" : \"운명의주사위\", \"winTinkledCount\" : 38\n",
      "\"routeWeapon\" : \"디오스쿠로이\", \"routeWeaponCount\" : 173\n",
      "\"routeBody\" : \"집사복\", \"routeBodyCount\" : 212\n",
      "\"routeHead\" : \"수정티아라\", \"routeHeadCount\" : 340\n",
      "\"routeArm\" : \"바이탈센서\", \"routeArmCount\" : 437\n",
      "\"routeFoot\" : \"경량화부츠\", \"routeFootCount\" : 297\n",
      "\"routeTinkled\" : \"\", \"routeTinkledCount\" : \"\"\n"
     ]
    }
   ],
   "source": [
    "# 캐릭터 62개 각각 아래자료 뽑아야함\n",
    "\n",
    "code1 = pd.DataFrame()\n",
    "Jakie = pd.concat([code1, rank[rank.characterNum == 1]], ignore_index=True)\n",
    "\n",
    "# 가장 많이 사용한 스킨, 사용 횟수\n",
    "print(\n",
    "    f'\"mostSkin\" : \"{skinNames[skinNames.code == int(Jakie.skinCode.value_counts().head(1).index[0])].values[0][0]}\", \"mostSkinCount\" :  {Jakie.skinCode.value_counts().head(1).values[0]}')\n",
    "\n",
    "'''지표 분석용'''\n",
    "# 평균 플레이어 킬수\n",
    "print(f'\"averageKillPlayer\" : {Jakie.playerKill.mean():.2f}')\n",
    "# 평균 플레이어 데미지\n",
    "print(f'\"averageDamegeToPlayer\" : {Jakie.damageToPlayer.mean():.2f}')\n",
    "# 평균 야동 킬수\n",
    "print(f'\"averageKillMonster\" : {Jakie.monsterKill.mean():.2f}')\n",
    "# 평균 야동 데미지\n",
    "print(f'\"averageDamegeToMonster\" : {Jakie.damageToMonster.mean():.2f}')\n",
    "# 게임 플레이 수\n",
    "print(f'\"totalGames\" : {Jakie.count()[0]}')\n",
    "# 평균 승률\n",
    "print(f'\"winRate\" : {661 / Jakie[Jakie.victory == 1].victory.count():.2f}')\n",
    "# 평균 등수\n",
    "print(f'\"averageRank\" : {Jakie[Jakie.escapeState != 3].gameRank.mean():.2f}')\n",
    "# 탈출 횟수\n",
    "print(f'\"escapeCount\" : {Jakie[Jakie.escapeState == 3].escapeState.count()}')\n",
    "# 평균 mmr 획득률\n",
    "print(f'\"averageMMR\" : {Jakie.mmrGain.mean():.2f}')\n",
    "\n",
    "'''메타 분석용'''\n",
    "# 승리했던 경기에서 가장 많이 사용한 최종 아이템, 사용 횟수\n",
    "print(\n",
    "    f'\"winWeapon\" : \"{weaponNames[weaponNames.code == int(Jakie[Jakie.victory == 1][\"equipment.0\"].value_counts().head(1).index[0])].values[0][1]}\", \"winWeaponCount\" : {Jakie[Jakie.victory == 1][\"equipment.0\"].value_counts().head(1).values[0]}')\n",
    "print(\n",
    "    f'\"winBody\" : \"{armorNames[armorNames.code == int(Jakie[Jakie.victory == 1][\"equipment.1\"].value_counts().head(1).index[0])].values[0][1]}\", \"winBodyCount\" : {Jakie[Jakie.victory == 1][\"equipment.1\"].value_counts().head(1).values[0]}')\n",
    "print(\n",
    "    f'\"winHead\" : \"{armorNames[armorNames.code == int(Jakie[Jakie.victory == 1][\"equipment.2\"].value_counts().head(1).index[0])].values[0][1]}\", \"winHeadCount\" : {Jakie[Jakie.victory == 1][\"equipment.2\"].value_counts().head(1).values[0]}')\n",
    "print(\n",
    "    f'\"winArm\" : \"{armorNames[armorNames.code == int(Jakie[Jakie.victory == 1][\"equipment.3\"].value_counts().head(1).index[0])].values[0][1]}\", \"winArmCount\" : {Jakie[Jakie.victory == 1][\"equipment.3\"].value_counts().head(1).values[0]}')\n",
    "print(\n",
    "    f'\"winFoot\" : \"{armorNames[armorNames.code == int(Jakie[Jakie.victory == 1][\"equipment.4\"].value_counts().head(1).index[0])].values[0][1]}\", \"winFootCount\" : {Jakie[Jakie.victory == 1][\"equipment.4\"].value_counts().head(1).values[0]}')\n",
    "print(\n",
    "    f'\"winTinkled\" : \"{armorNames[armorNames.code == int(Jakie[Jakie.victory == 1][\"equipment.5\"].value_counts().head(1).index[0])].values[0][1]}\", \"winTinkledCount\" : {Jakie[Jakie.victory == 1][\"equipment.5\"].value_counts().head(1).values[0]}')\n",
    "\n",
    "# 가장 많이 선택한 루트 아이템, 사용 횟수\n",
    "print(\n",
    "    f'\"routeWeapon\" : \"{weaponNames[weaponNames.code == int(Jakie[\"equipFirstItemForLog.0\"].value_counts().head(1).index[0][1:-1])].values[0][1]}\", \"routeWeaponCount\" : {Jakie[\"equipFirstItemForLog.0\"].value_counts().head(1)[0]}')\n",
    "print(\n",
    "    f'\"routeBody\" : \"{armorNames[armorNames.code == int(Jakie[\"equipFirstItemForLog.1\"].value_counts().head(1).index[0][1:-1])].values[0][1]}\", \"routeBodyCount\" : {Jakie[\"equipFirstItemForLog.1\"].value_counts().head(1)[0]}')\n",
    "print(\n",
    "    f'\"routeHead\" : \"{armorNames[armorNames.code == int(Jakie[\"equipFirstItemForLog.2\"].value_counts().head(1).index[0][1:-1])].values[0][1]}\", \"routeHeadCount\" : {Jakie[\"equipFirstItemForLog.2\"].value_counts().head(1)[0]}')\n",
    "print(\n",
    "    f'\"routeArm\" : \"{armorNames[armorNames.code == int(Jakie[\"equipFirstItemForLog.3\"].value_counts().head(1).index[0][1:-1])].values[0][1]}\", \"routeArmCount\" : {Jakie[\"equipFirstItemForLog.3\"].value_counts().head(1)[0]}')\n",
    "print(\n",
    "    f'\"routeFoot\" : \"{armorNames[armorNames.code == int(Jakie[\"equipFirstItemForLog.4\"].value_counts().head(1).index[0][1:-1])].values[0][1]}\", \"routeFootCount\" : {Jakie[\"equipFirstItemForLog.4\"].value_counts().head(1)[0]}')\n",
    "# print(f'\"routeTinkled\" : \"{armorNames[armorNames.code==int(Jakie[\"equipFirstItemForLog.5\"].value_counts().head(1).index[0][1:-1])].values[0][1]}\", \"routeTinkledCount\" : \"{Jakie[\"equipFirstItemForLog.5\"].value_counts().head(1)[0]}\"')\n",
    "print(f'\"routeTinkled\" : \"\", \"routeTinkledCount\" : \"\"')"
   ],
   "metadata": {
    "collapsed": false
   }
  },
  {
   "cell_type": "code",
   "execution_count": 108,
   "outputs": [
    {
     "name": "stdout",
     "output_type": "stream",
     "text": [
      "{\"character\" : \"재키\", \"mostSkin\" : \"시스템쇼크 재키\", \"mostSkinCount\" : 195, \"averageKillPlayer\" : 2.96, \"averageDamegeToPlayer\" : 8293.12, \"averageKillMonster\" : 29.51, \"averageDamegeToMonster\" : 38051.72, \"totalGames\" : 661, \"winRate\" : 3.84, \"averageRank\" : 2.96, \"escapeCount\" : 49, \"averageMMR\" : 10.142, \"winWeapon\" : \"프라가라흐\", \"winWeaponCount\" : 54, \"winBody\" : \"버건디47\", \"winBodyCount\" : 54, \"winHead\" : \"빛의증표\", \"winHeadCount\" : 82, \"winArm\" : \"레이더\", \"winArmCount\" : 45, \"winFoot\" : \"알렉산드로스\", \"winFootCount\" : 59, \"winTinkled\" : \"운명의주사위\", \"winTinkledCount\" : 38, \"routeWeapon\" : \"디오스쿠로이\", \"routeWeaponCount\" : 173, \"routeBody\" : \"집사복\", \"routeBodyCount\" : 212, \"routeHead\" : \"수정티아라\", \"routeHeadCount\" : 340, \"routeArm\" : \"바이탈센서\", \"routeArmCount\" : 437, \"routeFoot\" : \"궁기병의화살통\", \"routeFootCount\" : 145, \"routeTinkled\" : \"\", \"routeTinkledCount\" : \"\"}\n"
     ]
    }
   ],
   "source": [
    "print(\n",
    "    f'{\"{\"}\"character\" : \"{characterNamesKr.name[0]}\", '\n",
    "    f'\"mostSkin\" : \"{skinNames[skinNames.code == int(Jakie.skinCode.value_counts().head(1).index[0])].values[0][0]}\", \"mostSkinCount\" : {Jakie.skinCode.value_counts().head(1).values[0]}, '\n",
    "    # 평균 플레이어 킬수\n",
    "    f'\"averageKillPlayer\" : {Jakie.playerKill.mean():.2f}, '\n",
    "    # 평균 플레이어 데미지\n",
    "    f'\"averageDamegeToPlayer\" : {Jakie.damageToPlayer.mean():.2f}, '\n",
    "    # 평균 야동 킬수\n",
    "    f'\"averageKillMonster\" : {Jakie.monsterKill.mean():.2f}, '\n",
    "    # 평균 야동 데미지\n",
    "    f'\"averageDamegeToMonster\" : {Jakie.damageToMonster.mean():.2f}, '\n",
    "    # 게임 플레이 수\n",
    "    f'\"totalGames\" : {Jakie.count()[0]}, '\n",
    "    # 평균 승률\n",
    "    f'\"winRate\" : {661 / Jakie[Jakie.victory == 1].victory.count():.2f}, '\n",
    "    # 평균 등수\n",
    "    f'\"averageRank\" : {Jakie[Jakie.escapeState != 3].gameRank.mean():.2f}, '\n",
    "    # 탈출 횟수\n",
    "    f'\"escapeCount\" : {Jakie[Jakie.escapeState == 3].escapeState.count()}, '\n",
    "    # 평균 mmr 획득률\n",
    "    f'\"averageMMR\" : {Jakie.mmrGain.mean():.2f}, '\n",
    "    # 승리했던 경기에서 가장 많이 사용한 최종 아이템, 사용 횟수\n",
    "    f'\"winWeapon\" : \"{weaponNames[weaponNames.code == int(Jakie[Jakie.victory == 1][\"equipment.0\"].value_counts().head(1).index[0])].values[0][1]}\", \"winWeaponCount\" : {Jakie[Jakie.victory == 1][\"equipment.0\"].value_counts().head(1).values[0]}, '\n",
    "    f'\"winBody\" : \"{armorNames[armorNames.code == int(Jakie[Jakie.victory == 1][\"equipment.1\"].value_counts().head(1).index[0])].values[0][1]}\", \"winBodyCount\" : {Jakie[Jakie.victory == 1][\"equipment.1\"].value_counts().head(1).values[0]}, '\n",
    "    f'\"winHead\" : \"{armorNames[armorNames.code == int(Jakie[Jakie.victory == 1][\"equipment.2\"].value_counts().head(1).index[0])].values[0][1]}\", \"winHeadCount\" : {Jakie[Jakie.victory == 1][\"equipment.2\"].value_counts().head(1).values[0]}, '\n",
    "    f'\"winArm\" : \"{armorNames[armorNames.code == int(Jakie[Jakie.victory == 1][\"equipment.3\"].value_counts().head(1).index[0])].values[0][1]}\", \"winArmCount\" : {Jakie[Jakie.victory == 1][\"equipment.3\"].value_counts().head(1).values[0]}, '\n",
    "    f'\"winFoot\" : \"{armorNames[armorNames.code == int(Jakie[Jakie.victory == 1][\"equipment.4\"].value_counts().head(1).index[0])].values[0][1]}\", \"winFootCount\" : {Jakie[Jakie.victory == 1][\"equipment.4\"].value_counts().head(1).values[0]}, '\n",
    "    f'\"winTinkled\" : \"{armorNames[armorNames.code == int(Jakie[Jakie.victory == 1][\"equipment.5\"].value_counts().head(1).index[0])].values[0][1]}\", \"winTinkledCount\" : {Jakie[Jakie.victory == 1][\"equipment.5\"].value_counts().head(1).values[0]}, '\n",
    "    # 가장 많이 선택한 루트 아이템, 사용 횟수\n",
    "    f'\"routeWeapon\" : \"{weaponNames[weaponNames.code == int(Jakie[\"equipFirstItemForLog.0\"].value_counts().head(1).index[0][1:-1])].values[0][1]}\", \"routeWeaponCount\" : {Jakie[\"equipFirstItemForLog.0\"].value_counts().head(1)[0]}, '\n",
    "    f'\"routeBody\" : \"{armorNames[armorNames.code == int(Jakie[\"equipFirstItemForLog.1\"].value_counts().head(1).index[0][1:-1])].values[0][1]}\", \"routeBodyCount\" : {Jakie[\"equipFirstItemForLog.1\"].value_counts().head(1)[0]}, '\n",
    "    f'\"routeHead\" : \"{armorNames[armorNames.code == int(Jakie[\"equipFirstItemForLog.2\"].value_counts().head(1).index[0][1:-1])].values[0][1]}\", \"routeHeadCount\" : {Jakie[\"equipFirstItemForLog.2\"].value_counts().head(1)[0]}, '\n",
    "    f'\"routeArm\" : \"{armorNames[armorNames.code == int(Jakie[\"equipFirstItemForLog.3\"].value_counts().head(1).index[0][1:-1])].values[0][1]}\", \"routeArmCount\" : {Jakie[\"equipFirstItemForLog.3\"].value_counts().head(1)[0]}, '\n",
    "    f'\"routeFoot\" : \"{armorNames[armorNames.code == int(Jakie[\"equipment.5\"].value_counts().head(1).index[0])].values[0][1]}\", \"routeFootCount\" : {Jakie[\"equipment.5\"].value_counts().head(1).values[0]}, '\n",
    "    f'\"routeTinkled\" : \"\", \"routeTinkledCount\" : \"\"{\"}\"}')"
   ],
   "metadata": {
    "collapsed": false
   }
  },
  {
   "cell_type": "code",
   "execution_count": 222,
   "outputs": [
    {
     "data": {
      "text/plain": "  characterName characterCode  mostSkin  mostSkinCount  averageKillPlayer  \\\n0            재키             1  시스템쇼크 재키            195            2.96000   \n\n   averageDamegeToPlayer  averageKillMonster  averageDamegeToMonster  \\\n0            8,293.12000            29.51000            38,051.72000   \n\n   totalGames  winRate  ...  routeBody  routeBodyCount  routeHead  \\\n0         661  3.84000  ...        집사복             212      수정티아라   \n\n  routeHeadCount  routeArm routeArmCount  routeFoot routeFootCount  \\\n0            340     바이탈센서           437      경량화부츠            297   \n\n   routeTinkled routeTinkledCount  \n0                                  \n\n[1 rows x 37 columns]",
      "text/html": "<div>\n<style scoped>\n    .dataframe tbody tr th:only-of-type {\n        vertical-align: middle;\n    }\n\n    .dataframe tbody tr th {\n        vertical-align: top;\n    }\n\n    .dataframe thead th {\n        text-align: right;\n    }\n</style>\n<table border=\"1\" class=\"dataframe\">\n  <thead>\n    <tr style=\"text-align: right;\">\n      <th></th>\n      <th>characterName</th>\n      <th>characterCode</th>\n      <th>mostSkin</th>\n      <th>mostSkinCount</th>\n      <th>averageKillPlayer</th>\n      <th>averageDamegeToPlayer</th>\n      <th>averageKillMonster</th>\n      <th>averageDamegeToMonster</th>\n      <th>totalGames</th>\n      <th>winRate</th>\n      <th>...</th>\n      <th>routeBody</th>\n      <th>routeBodyCount</th>\n      <th>routeHead</th>\n      <th>routeHeadCount</th>\n      <th>routeArm</th>\n      <th>routeArmCount</th>\n      <th>routeFoot</th>\n      <th>routeFootCount</th>\n      <th>routeTinkled</th>\n      <th>routeTinkledCount</th>\n    </tr>\n  </thead>\n  <tbody>\n    <tr>\n      <th>0</th>\n      <td>재키</td>\n      <td>1</td>\n      <td>시스템쇼크 재키</td>\n      <td>195</td>\n      <td>2.96000</td>\n      <td>8,293.12000</td>\n      <td>29.51000</td>\n      <td>38,051.72000</td>\n      <td>661</td>\n      <td>3.84000</td>\n      <td>...</td>\n      <td>집사복</td>\n      <td>212</td>\n      <td>수정티아라</td>\n      <td>340</td>\n      <td>바이탈센서</td>\n      <td>437</td>\n      <td>경량화부츠</td>\n      <td>297</td>\n      <td></td>\n      <td></td>\n    </tr>\n  </tbody>\n</table>\n<p>1 rows × 37 columns</p>\n</div>"
     },
     "execution_count": 222,
     "metadata": {},
     "output_type": "execute_result"
    }
   ],
   "source": [
    "code1 = pd.DataFrame()\n",
    "Jakie = pd.concat([code1, rank[rank.characterNum == 1]], ignore_index=True)\n",
    "characterStats = pd.DataFrame()\n",
    "# 가장 많이 사용한 스킨, 사용 횟수\n",
    "stat = (\n",
    "    f'{\"{\"}\"characterName\" : \"{characterNamesKr.name[0]}\", '\n",
    "    f'\"characterCode\" : \"{characterNamesKr.code[0]}\", '\n",
    "    f'\"mostSkin\" : \"{skinNames[skinNames.code == int(Jakie.skinCode.value_counts().head(1).index[0])].values[0][0]}\", \"mostSkinCount\" : {Jakie.skinCode.value_counts().head(1).values[0]}, '\n",
    "    # 평균 플레이어 킬수\n",
    "    f'\"averageKillPlayer\" : {Jakie.playerKill.mean():.2f}, '\n",
    "    # 평균 플레이어 데미지\n",
    "    f'\"averageDamegeToPlayer\" : {Jakie.damageToPlayer.mean():.2f}, '\n",
    "    # 평균 야동 킬수\n",
    "    f'\"averageKillMonster\" : {Jakie.monsterKill.mean():.2f}, '\n",
    "    # 평균 야동 데미지\n",
    "    f'\"averageDamegeToMonster\" : {Jakie.damageToMonster.mean():.2f}, '\n",
    "    # 게임 플레이 수\n",
    "    f'\"totalGames\" : {Jakie.count()[0]}, '\n",
    "    # 평균 승률\n",
    "    f'\"winRate\" : {661 / Jakie[Jakie.victory == 1].victory.count():.2f}, '\n",
    "    # 평균 등수\n",
    "    f'\"averageRank\" : {Jakie[Jakie.escapeState != 3].gameRank.mean():.2f}, '\n",
    "    # 탈출 횟수\n",
    "    f'\"escapeCount\" : {Jakie[Jakie.escapeState == 3].escapeState.count()}, '\n",
    "    # 평균 mmr 획득률\n",
    "    f'\"averageMMR\" : {Jakie.mmrGain.mean():.2f}, '\n",
    "\n",
    "    # 승리했던 경기에서 가장 많이 사용한 최종 아이템, 사용 횟수\n",
    "    f'\"winWeapon\" : \"{weaponNames[weaponNames.code == int(Jakie[Jakie.victory == 1][\"equipment.0\"].value_counts().head(1).index[0])].values[0][1]}\", \"winWeaponCount\" : {Jakie[Jakie.victory == 1][\"equipment.0\"].value_counts().head(1).values[0]}, '\n",
    "    f'\"winBody\" : \"{armorNames[armorNames.code == int(Jakie[Jakie.victory == 1][\"equipment.1\"].value_counts().head(1).index[0])].values[0][1]}\", \"winBodyCount\" : {Jakie[Jakie.victory == 1][\"equipment.1\"].value_counts().head(1).values[0]}, '\n",
    "    f'\"winHead\" : \"{armorNames[armorNames.code == int(Jakie[Jakie.victory == 1][\"equipment.2\"].value_counts().head(1).index[0])].values[0][1]}\", \"winHeadCount\" : {Jakie[Jakie.victory == 1][\"equipment.2\"].value_counts().head(1).values[0]}, '\n",
    "    f'\"winArm\" : \"{armorNames[armorNames.code == int(Jakie[Jakie.victory == 1][\"equipment.3\"].value_counts().head(1).index[0])].values[0][1]}\", \"winArmCount\" : {Jakie[Jakie.victory == 1][\"equipment.3\"].value_counts().head(1).values[0]}, '\n",
    "    f'\"winFoot\" : \"{armorNames[armorNames.code == int(Jakie[Jakie.victory == 1][\"equipment.4\"].value_counts().head(1).index[0])].values[0][1]}\", \"winFootCount\" : {Jakie[Jakie.victory == 1][\"equipment.4\"].value_counts().head(1).values[0]}, '\n",
    "    f'\"winTinkled\" : \"{armorNames[armorNames.code == int(Jakie[Jakie.victory == 1][\"equipment.5\"].value_counts().head(1).index[0])].values[0][1]}\", \"winTinkledCount\" : {Jakie[Jakie.victory == 1][\"equipment.5\"].value_counts().head(1).values[0]}, '\n",
    "    # 가장 많이 선택한 루트 아이템, 사용 횟수\n",
    "    f'\"routeWeapon\" : \"{weaponNames[weaponNames.code == int(Jakie[\"equipFirstItemForLog.0\"].value_counts().head(1).index[0][1:-1])].values[0][1]}\", \"routeWeaponCount\" : {Jakie[\"equipFirstItemForLog.0\"].value_counts().head(1)[0]}, '\n",
    "    f'\"routeBody\" : \"{armorNames[armorNames.code == int(Jakie[\"equipFirstItemForLog.1\"].value_counts().head(1).index[0][1:-1])].values[0][1]}\", \"routeBodyCount\" : {Jakie[\"equipFirstItemForLog.1\"].value_counts().head(1)[0]}, '\n",
    "    f'\"routeHead\" : \"{armorNames[armorNames.code == int(Jakie[\"equipFirstItemForLog.2\"].value_counts().head(1).index[0][1:-1])].values[0][1]}\", \"routeHeadCount\" : {Jakie[\"equipFirstItemForLog.2\"].value_counts().head(1)[0]}, '\n",
    "    f'\"routeArm\" : \"{armorNames[armorNames.code == int(Jakie[\"equipFirstItemForLog.3\"].value_counts().head(1).index[0][1:-1])].values[0][1]}\", \"routeArmCount\" : {Jakie[\"equipFirstItemForLog.3\"].value_counts().head(1)[0]}, '\n",
    "    f'\"routeFoot\" : \"{armorNames[armorNames.code == int(Jakie[\"equipFirstItemForLog.4\"].value_counts().head(1).index[0][1:-1])].values[0][1]}\", \"routeFootCount\" : {Jakie[\"equipFirstItemForLog.4\"].value_counts().head(1)[0]}, '\n",
    "    f'\"routeTinkled\" : \"\", \"routeTinkledCount\" : \"\"{\"}\"}')\n",
    "characterStats = pd.concat([characterStats,json_normalize(json.loads(stat))])\n",
    "characterStats"
   ],
   "metadata": {
    "collapsed": false
   }
  },
  {
   "cell_type": "code",
   "execution_count": 363,
   "outputs": [
    {
     "data": {
      "text/plain": "   characterCode characterName  pickRate  mmrGain\n0              1            재키   3.43000 10.14000",
      "text/html": "<div>\n<style scoped>\n    .dataframe tbody tr th:only-of-type {\n        vertical-align: middle;\n    }\n\n    .dataframe tbody tr th {\n        vertical-align: top;\n    }\n\n    .dataframe thead th {\n        text-align: right;\n    }\n</style>\n<table border=\"1\" class=\"dataframe\">\n  <thead>\n    <tr style=\"text-align: right;\">\n      <th></th>\n      <th>characterCode</th>\n      <th>characterName</th>\n      <th>pickRate</th>\n      <th>mmrGain</th>\n    </tr>\n  </thead>\n  <tbody>\n    <tr>\n      <th>0</th>\n      <td>1</td>\n      <td>재키</td>\n      <td>3.43000</td>\n      <td>10.14000</td>\n    </tr>\n  </tbody>\n</table>\n</div>"
     },
     "execution_count": 363,
     "metadata": {},
     "output_type": "execute_result"
    }
   ],
   "source": [
    "code1xy = pd.DataFrame()\n",
    "xy = pd.concat([code1xy, json_normalize(json.loads(f'{\"{\"}\"characterCode\" : {characterNamesKr[characterNamesKr.code==int(characterStats.characterCode[0])].code[0]} ,\"characterName\" : \"{characterNamesKr[characterNamesKr.code==int(characterStats.characterCode[0])].name[0]}\" ,\"pickRate\" : {characterStats.totalGames[0]/19248*100:.2f}, \"mmrGain\" : {characterStats.averageMMR[0]:.2f}{\"}\"}'))])\n",
    "xy"
   ],
   "metadata": {
    "collapsed": false
   }
  },
  {
   "cell_type": "code",
   "execution_count": 200,
   "outputs": [
    {
     "name": "stdout",
     "output_type": "stream",
     "text": [
      "9.93\n"
     ]
    }
   ],
   "source": [
    "mmr=f'{rank.mmrGain.mean():.2f}'\n",
    "# pickRate =   # 픽률\n",
    "print(mmr)"
   ],
   "metadata": {
    "collapsed": false
   }
  },
  {
   "cell_type": "code",
   "execution_count": 219,
   "outputs": [
    {
     "data": {
      "text/plain": "<Figure size 1152x720 with 1 Axes>",
      "image/png": "[encoded data removed]"
     },
     "metadata": {},
     "output_type": "display_data"
    }
   ],
   "source": [
    "plt.figure(figsize=(16,10))\n",
    "plt.plot(xy.pickRate, xy.mmrGain, 'o')\n",
    "plt.show()"
   ],
   "metadata": {
    "collapsed": false
   }
  },
  {
   "cell_type": "code",
   "execution_count": 48,
   "outputs": [],
   "source": [
    "# 62개 캐릭터의 핵심 정보(인덱스, 승률 수정 필요)\n",
    "\n",
    "df_code = pd.DataFrame()\n",
    "df_test = pd.DataFrame()\n",
    "\n",
    "for i in range(1, 63):\n",
    "    character = pd.concat([df_code, rank[rank.characterNum == i]])\n",
    "\n",
    "    stat = (\n",
    "        # 가장 많이 사용한 스킨, 사용 횟수\n",
    "        f'{\"{\"}\"mostSkin\" : \"{skinNames[skinNames.code == int(character.skinCode.value_counts().head(1).index[0])].values[0][0]}\", \"mostSkinCount\" : {character.skinCode.value_counts().head(1).values[0]}, '\n",
    "        # 평균 플레이어 킬수\n",
    "        f'\"averageKillPlayer\" : {character.playerKill.mean():.2f}, '\n",
    "        # 평균 플레이어 데미지\n",
    "        f'\"averageDamegeToPlayer\" : {character.damageToPlayer.mean():.2f}, '\n",
    "        # 평균 야생동물 킬수\n",
    "        f'\"averageKillMonster\" : {character.monsterKill.mean():.2f}, '\n",
    "        # 평균 야생동물 데미지\n",
    "        f'\"averageDamegeToMonster\" : {character.damageToMonster.mean():.2f}, '\n",
    "        # 게임 플레이 횟수\n",
    "        f'\"totalGames\" : {character.victory.count()}, '\n",
    "        # 평균 승률 → 수정 필요?\n",
    "        f'\"winRate\" : {661 / character[character.victory == 1].victory.count():.2f}, '\n",
    "        # 평균 등수\n",
    "        f'\"averageRank\" : {character[character.escapeState != 3].gameRank.mean():.2f}, '\n",
    "        # 탈출 횟수\n",
    "        f'\"escapeCount\" : {character[character.escapeState == 3].escapeState.count()}, '\n",
    "        # 평균 mmr 획득률\n",
    "        f'\"averageMMR\" : {character.mmrGain.mean():.3f}, '\n",
    "\n",
    "        # 승리했던 경기에서 가장 많이 사용한 최종 아이템, 사용 횟수\n",
    "        f'\"winWeapon\" : \"{weaponNames[weaponNames.code == int(character[character.victory == 1][\"equipment.0\"].value_counts().head(1).index[0])].values[0][1]}\", \"winWeaponCount\" : {character[character.victory == 1][\"equipment.0\"].value_counts().head(1).values[0]}, '\n",
    "        f'\"winBody\" : \"{armorNames[armorNames.code == int(character[character.victory == 1][\"equipment.1\"].value_counts().head(1).index[0])].values[0][1]}\", \"winBodyCount\" : {character[character.victory == 1][\"equipment.1\"].value_counts().head(1).values[0]}, '\n",
    "        f'\"winHead\" : \"{armorNames[armorNames.code == int(character[character.victory == 1][\"equipment.2\"].value_counts().head(1).index[0])].values[0][1]}\", \"winHeadCount\" : {character[character.victory == 1][\"equipment.2\"].value_counts().head(1).values[0]}, '\n",
    "        f'\"winArm\" : \"{armorNames[armorNames.code == int(character[character.victory == 1][\"equipment.3\"].value_counts().head(1).index[0])].values[0][1]}\", \"winArmCount\" : {character[character.victory == 1][\"equipment.3\"].value_counts().head(1).values[0]}, '\n",
    "        f'\"winFoot\" : \"{armorNames[armorNames.code == int(character[character.victory == 1][\"equipment.4\"].value_counts().head(1).index[0])].values[0][1]}\", \"winFootCount\" : {character[character.victory == 1][\"equipment.4\"].value_counts().head(1).values[0]}, '\n",
    "        f'\"winTinkled\" : \"{armorNames[armorNames.code == int(character[character.victory == 1][\"equipment.5\"].value_counts().head(1).index[0])].values[0][1]}\", \"winTinkledCount\" : {character[character.victory == 1][\"equipment.5\"].value_counts().head(1).values[0]}, '\n",
    "        # 가장 많이 선택한 루트 아이템, 사용 횟수\n",
    "        f'\"routeWeapon\" : \"{weaponNames[weaponNames.code == int(character[\"equipFirstItemForLog.0\"].value_counts().head(1).index[0][1:-1])].values[0][1]}\", \"routeWeaponCount\" : {character[\"equipFirstItemForLog.0\"].value_counts().head(1)[0]}, '\n",
    "        f'\"routeBody\" : \"{armorNames[armorNames.code == int(character[\"equipFirstItemForLog.1\"].value_counts().head(1).index[0][1:-1])].values[0][1]}\", \"routeBodyCount\" : {character[\"equipFirstItemForLog.1\"].value_counts().head(1)[0]}, '\n",
    "        f'\"routeHead\" : \"{armorNames[armorNames.code == int(character[\"equipFirstItemForLog.2\"].value_counts().head(1).index[0][1:-1])].values[0][1]}\", \"routeHeadCount\" : {character[\"equipFirstItemForLog.2\"].value_counts().head(1)[0]}, '\n",
    "        f'\"routeArm\" : \"{armorNames[armorNames.code == int(character[\"equipFirstItemForLog.3\"].value_counts().head(1).index[0][1:-1])].values[0][1]}\", \"routeArmCount\" : {character[\"equipFirstItemForLog.3\"].value_counts().head(1)[0]}, '\n",
    "        f'\"routeFoot\" : \"{armorNames[armorNames.code == int(character[\"equipFirstItemForLog.4\"].value_counts().head(1).index[0][1:-1])].values[0][1]}\", \"routeFootCount\" : {character[\"equipFirstItemForLog.4\"].value_counts().head(1)[0]}, '\n",
    "        f'\"routeTinkled\" : \"\", \"routeTinkledCount\" : \"\"{\"}\"}')\n",
    "    df_test = pd.concat([df_test,json_normalize(json.loads(stat))])\n",
    "    del character, stat"
   ],
   "metadata": {
    "collapsed": false
   }
  },
  {
   "cell_type": "code",
   "execution_count": 49,
   "outputs": [
    {
     "data": {
      "text/plain": "     mostSkin  mostSkinCount  averageKillPlayer  averageDamegeToPlayer  \\\n0    시스템쇼크 재키            195            2.96000            8,293.12000   \n0     불꽃놀이 아야            636            2.60000           10,819.39000   \n0   파티드레스 피오라            186            2.06000            7,800.92000   \n0     남국 매그너스            149            2.03000            7,564.10000   \n0      사신 자히르             24            2.71000           10,583.76000   \n..        ...            ...                ...                    ...   \n0     암흑가 헤이즈            224            2.46000           11,080.11000   \n0     암흑가 아이작            309            2.43000            7,372.01000   \n0         타지아             39            3.33000            9,196.26000   \n0      눈싸움 이렘            107            2.15000            7,031.30000   \n0        테오도르            830            1.33000            7,596.29000   \n\n    averageKillMonster  averageDamegeToMonster  totalGames  winRate  \\\n0             29.51000            38,051.72000         661  3.84000   \n0             22.83000            27,965.12000         942  3.84000   \n0             21.98000            27,325.81000         291 10.33000   \n0             15.11000            18,663.17000         313 11.02000   \n0             20.39000            26,796.66000          41 73.44000   \n..                 ...                     ...         ...      ...   \n0             18.20000            21,879.78000         386  9.44000   \n0             18.62000            21,601.14000         512  6.01000   \n0             13.47000            16,505.85000          66 36.72000   \n0             15.59000            18,930.38000         138 22.03000   \n0             12.53000            14,552.61000         830  3.87000   \n\n    averageRank  escapeCount  ...  routeBody routeBodyCount  routeHead  \\\n0       2.96000           49  ...        집사복            212      수정티아라   \n0       3.20000           75  ...     지휘관의갑옷            571     황실부르고넷   \n0       2.96000           19  ...      EOD수트            119       제국왕관   \n0       3.26000           18  ...    아마조네스아머            135       제국왕관   \n0       3.03000            5  ...      고위사제복             18       제국왕관   \n..          ...          ...  ...        ...            ...        ...   \n0       3.37000           31  ...     지휘관의갑옷            266     황실부르고넷   \n0       3.12000           28  ...      EOD수트            354    전술OPS헬멧   \n0       3.09000            1  ...      고위사제복             57       제국왕관   \n0       3.39000           11  ...      EOD수트             96       제국왕관   \n0       3.27000           65  ...      고위사제복            691       제국왕관   \n\n   routeHeadCount  routeArm routeArmCount  routeFoot routeFootCount  \\\n0             340     바이탈센서           437      경량화부츠            297   \n0             505   틴달로스의팔찌           517    타키온브레이스            520   \n0             214   틴달로스의팔찌           101    타키온브레이스             78   \n0             251    드라우프니르           206      EOD부츠            199   \n0              31    드라우프니르            26        풍화륜             24   \n..            ...       ...           ...        ...            ...   \n0             295   틴달로스의팔찌           256        아이젠            242   \n0             397    샤자한의검집           378      경량화부츠            281   \n0              60      아이기스            44        SCV             41   \n0             124     스포츠시계            80    타키온브레이스             56   \n0             585     나이팅게일           386        SCV            337   \n\n    routeTinkled routeTinkledCount  \n0                                   \n0                                   \n0                                   \n0                                   \n0                                   \n..           ...               ...  \n0                                   \n0                                   \n0                                   \n0                                   \n0                                   \n\n[62 rows x 35 columns]",
      "text/html": "<div>\n<style scoped>\n    .dataframe tbody tr th:only-of-type {\n        vertical-align: middle;\n    }\n\n    .dataframe tbody tr th {\n        vertical-align: top;\n    }\n\n    .dataframe thead th {\n        text-align: right;\n    }\n</style>\n<table border=\"1\" class=\"dataframe\">\n  <thead>\n    <tr style=\"text-align: right;\">\n      <th></th>\n      <th>mostSkin</th>\n      <th>mostSkinCount</th>\n      <th>averageKillPlayer</th>\n      <th>averageDamegeToPlayer</th>\n      <th>averageKillMonster</th>\n      <th>averageDamegeToMonster</th>\n      <th>totalGames</th>\n      <th>winRate</th>\n      <th>averageRank</th>\n      <th>escapeCount</th>\n      <th>...</th>\n      <th>routeBody</th>\n      <th>routeBodyCount</th>\n      <th>routeHead</th>\n      <th>routeHeadCount</th>\n      <th>routeArm</th>\n      <th>routeArmCount</th>\n      <th>routeFoot</th>\n      <th>routeFootCount</th>\n      <th>routeTinkled</th>\n      <th>routeTinkledCount</th>\n    </tr>\n  </thead>\n  <tbody>\n    <tr>\n      <th>0</th>\n      <td>시스템쇼크 재키</td>\n      <td>195</td>\n      <td>2.96000</td>\n      <td>8,293.12000</td>\n      <td>29.51000</td>\n      <td>38,051.72000</td>\n      <td>661</td>\n      <td>3.84000</td>\n      <td>2.96000</td>\n      <td>49</td>\n      <td>...</td>\n      <td>집사복</td>\n      <td>212</td>\n      <td>수정티아라</td>\n      <td>340</td>\n      <td>바이탈센서</td>\n      <td>437</td>\n      <td>경량화부츠</td>\n      <td>297</td>\n      <td></td>\n      <td></td>\n    </tr>\n    <tr>\n      <th>0</th>\n      <td>불꽃놀이 아야</td>\n      <td>636</td>\n      <td>2.60000</td>\n      <td>10,819.39000</td>\n      <td>22.83000</td>\n      <td>27,965.12000</td>\n      <td>942</td>\n      <td>3.84000</td>\n      <td>3.20000</td>\n      <td>75</td>\n      <td>...</td>\n      <td>지휘관의갑옷</td>\n      <td>571</td>\n      <td>황실부르고넷</td>\n      <td>505</td>\n      <td>틴달로스의팔찌</td>\n      <td>517</td>\n      <td>타키온브레이스</td>\n      <td>520</td>\n      <td></td>\n      <td></td>\n    </tr>\n    <tr>\n      <th>0</th>\n      <td>파티드레스 피오라</td>\n      <td>186</td>\n      <td>2.06000</td>\n      <td>7,800.92000</td>\n      <td>21.98000</td>\n      <td>27,325.81000</td>\n      <td>291</td>\n      <td>10.33000</td>\n      <td>2.96000</td>\n      <td>19</td>\n      <td>...</td>\n      <td>EOD수트</td>\n      <td>119</td>\n      <td>제국왕관</td>\n      <td>214</td>\n      <td>틴달로스의팔찌</td>\n      <td>101</td>\n      <td>타키온브레이스</td>\n      <td>78</td>\n      <td></td>\n      <td></td>\n    </tr>\n    <tr>\n      <th>0</th>\n      <td>남국 매그너스</td>\n      <td>149</td>\n      <td>2.03000</td>\n      <td>7,564.10000</td>\n      <td>15.11000</td>\n      <td>18,663.17000</td>\n      <td>313</td>\n      <td>11.02000</td>\n      <td>3.26000</td>\n      <td>18</td>\n      <td>...</td>\n      <td>아마조네스아머</td>\n      <td>135</td>\n      <td>제국왕관</td>\n      <td>251</td>\n      <td>드라우프니르</td>\n      <td>206</td>\n      <td>EOD부츠</td>\n      <td>199</td>\n      <td></td>\n      <td></td>\n    </tr>\n    <tr>\n      <th>0</th>\n      <td>사신 자히르</td>\n      <td>24</td>\n      <td>2.71000</td>\n      <td>10,583.76000</td>\n      <td>20.39000</td>\n      <td>26,796.66000</td>\n      <td>41</td>\n      <td>73.44000</td>\n      <td>3.03000</td>\n      <td>5</td>\n      <td>...</td>\n      <td>고위사제복</td>\n      <td>18</td>\n      <td>제국왕관</td>\n      <td>31</td>\n      <td>드라우프니르</td>\n      <td>26</td>\n      <td>풍화륜</td>\n      <td>24</td>\n      <td></td>\n      <td></td>\n    </tr>\n    <tr>\n      <th>...</th>\n      <td>...</td>\n      <td>...</td>\n      <td>...</td>\n      <td>...</td>\n      <td>...</td>\n      <td>...</td>\n      <td>...</td>\n      <td>...</td>\n      <td>...</td>\n      <td>...</td>\n      <td>...</td>\n      <td>...</td>\n      <td>...</td>\n      <td>...</td>\n      <td>...</td>\n      <td>...</td>\n      <td>...</td>\n      <td>...</td>\n      <td>...</td>\n      <td>...</td>\n      <td>...</td>\n    </tr>\n    <tr>\n      <th>0</th>\n      <td>암흑가 헤이즈</td>\n      <td>224</td>\n      <td>2.46000</td>\n      <td>11,080.11000</td>\n      <td>18.20000</td>\n      <td>21,879.78000</td>\n      <td>386</td>\n      <td>9.44000</td>\n      <td>3.37000</td>\n      <td>31</td>\n      <td>...</td>\n      <td>지휘관의갑옷</td>\n      <td>266</td>\n      <td>황실부르고넷</td>\n      <td>295</td>\n      <td>틴달로스의팔찌</td>\n      <td>256</td>\n      <td>아이젠</td>\n      <td>242</td>\n      <td></td>\n      <td></td>\n    </tr>\n    <tr>\n      <th>0</th>\n      <td>암흑가 아이작</td>\n      <td>309</td>\n      <td>2.43000</td>\n      <td>7,372.01000</td>\n      <td>18.62000</td>\n      <td>21,601.14000</td>\n      <td>512</td>\n      <td>6.01000</td>\n      <td>3.12000</td>\n      <td>28</td>\n      <td>...</td>\n      <td>EOD수트</td>\n      <td>354</td>\n      <td>전술OPS헬멧</td>\n      <td>397</td>\n      <td>샤자한의검집</td>\n      <td>378</td>\n      <td>경량화부츠</td>\n      <td>281</td>\n      <td></td>\n      <td></td>\n    </tr>\n    <tr>\n      <th>0</th>\n      <td>타지아</td>\n      <td>39</td>\n      <td>3.33000</td>\n      <td>9,196.26000</td>\n      <td>13.47000</td>\n      <td>16,505.85000</td>\n      <td>66</td>\n      <td>36.72000</td>\n      <td>3.09000</td>\n      <td>1</td>\n      <td>...</td>\n      <td>고위사제복</td>\n      <td>57</td>\n      <td>제국왕관</td>\n      <td>60</td>\n      <td>아이기스</td>\n      <td>44</td>\n      <td>SCV</td>\n      <td>41</td>\n      <td></td>\n      <td></td>\n    </tr>\n    <tr>\n      <th>0</th>\n      <td>눈싸움 이렘</td>\n      <td>107</td>\n      <td>2.15000</td>\n      <td>7,031.30000</td>\n      <td>15.59000</td>\n      <td>18,930.38000</td>\n      <td>138</td>\n      <td>22.03000</td>\n      <td>3.39000</td>\n      <td>11</td>\n      <td>...</td>\n      <td>EOD수트</td>\n      <td>96</td>\n      <td>제국왕관</td>\n      <td>124</td>\n      <td>스포츠시계</td>\n      <td>80</td>\n      <td>타키온브레이스</td>\n      <td>56</td>\n      <td></td>\n      <td></td>\n    </tr>\n    <tr>\n      <th>0</th>\n      <td>테오도르</td>\n      <td>830</td>\n      <td>1.33000</td>\n      <td>7,596.29000</td>\n      <td>12.53000</td>\n      <td>14,552.61000</td>\n      <td>830</td>\n      <td>3.87000</td>\n      <td>3.27000</td>\n      <td>65</td>\n      <td>...</td>\n      <td>고위사제복</td>\n      <td>691</td>\n      <td>제국왕관</td>\n      <td>585</td>\n      <td>나이팅게일</td>\n      <td>386</td>\n      <td>SCV</td>\n      <td>337</td>\n      <td></td>\n      <td></td>\n    </tr>\n  </tbody>\n</table>\n<p>62 rows × 35 columns</p>\n</div>"
     },
     "execution_count": 49,
     "metadata": {},
     "output_type": "execute_result"
    }
   ],
   "source": [
    "df_test"
   ],
   "metadata": {
    "collapsed": false
   }
  },
  {
   "cell_type": "code",
   "execution_count": null,
   "outputs": [],
   "source": [],
   "metadata": {
    "collapsed": false
   }
  }
 ],
 "metadata": {
  "kernelspec": {
   "display_name": "Python 3",
   "language": "python",
   "name": "python3"
  },
  "language_info": {
   "codemirror_mode": {
    "name": "ipython",
    "version": 2
   },
   "file_extension": ".py",
   "mimetype": "text/x-python",
   "name": "python",
   "nbconvert_exporter": "python",
   "pygments_lexer": "ipython2",
   "version": "2.7.6"
  }
 },
 "nbformat": 4,
 "nbformat_minor": 0
}
